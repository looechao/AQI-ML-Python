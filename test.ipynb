{
 "cells": [
  {
   "cell_type": "code",
   "execution_count": 30,
   "metadata": {},
   "outputs": [],
   "source": [
    "import numpy as np # linear algebra\n",
    "import pandas as pd # data processing, CSV file I/O (e.g. pd.read_csv)\n",
    "import plotly.express as px #graphing\n",
    "import plotly.graph_objects as go #graphing\n",
    "from plotly.subplots import make_subplots #graphing\n",
    "import matplotlib.pyplot as plt #graphing\n",
    "import seaborn as sns #graphing\n",
    "import missingno as msno #describe data\n",
    "import os\n",
    "\n",
    "#from plotly.offline import plot, iplot, init_notebook_mode\n",
    "#import plotly.graph_objs as go\n",
    "#init_notebook_mode(connected=True)\n",
    "\n",
    "sns.set(rc = {\"figure.figsize\":(10, 6)}) #graph size\n",
    "\n",
    "for dirname, _, filenames in os.walk('/kaggle/input'):\n",
    "    for filename in filenames:\n",
    "        print(os.path.join(dirname, filename))"
   ]
  },
  {
   "cell_type": "code",
   "execution_count": 32,
   "id": "866ec4e0",
   "metadata": {},
   "outputs": [],
   "source": [
    "# 加载 xlsx 文件，将第一列解析为日期类型\n",
    "data = pd.read_excel('data.xlsx', parse_dates=[0])\n",
    "# 写入 csv 文件\n",
    "data.to_csv('PekingAirqulityDetails.csv', index=False, encoding='utf-8-sig')"
   ]
  }
 ],
 "metadata": {
  "kernelspec": {
   "display_name": "Python 3 (ipykernel)",
   "language": "python",
   "name": "python3"
  },
  "language_info": {
   "codemirror_mode": {
    "name": "ipython",
    "version": 3
   },
   "file_extension": ".py",
   "mimetype": "text/x-python",
   "name": "python",
   "nbconvert_exporter": "python",
   "pygments_lexer": "ipython3",
   "version": "3.11.9"
  }
 },
 "nbformat": 4,
 "nbformat_minor": 5
}
